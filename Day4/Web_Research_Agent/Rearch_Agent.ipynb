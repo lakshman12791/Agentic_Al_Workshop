{
  "cells": [
    {
      "cell_type": "markdown",
      "id": "7a9ceb2c",
      "metadata": {
        "id": "7a9ceb2c"
      },
      "source": [
        "# ReAct Web Research Agent using Gemini 1.5 Flash + Tavily"
      ]
    },
    {
      "cell_type": "markdown",
      "id": "75e4bd97",
      "metadata": {
        "id": "75e4bd97"
      },
      "source": [
        "## 🔧 Install Dependencies"
      ]
    },
    {
      "cell_type": "code",
      "execution_count": 5,
      "id": "cd11764e",
      "metadata": {
        "id": "cd11764e"
      },
      "outputs": [],
      "source": [
        "!pip install -q -U google-generativeai tavily-python"
      ]
    },
    {
      "cell_type": "markdown",
      "id": "2f60af1d",
      "metadata": {
        "id": "2f60af1d"
      },
      "source": [
        "## 🔐 Set Environment Variables (API Keys)"
      ]
    },
    {
      "cell_type": "markdown",
      "id": "a348e239",
      "metadata": {
        "id": "a348e239"
      },
      "source": [
        "## ⚙️ Configure Gemini and Tavily Clients"
      ]
    },
    {
      "cell_type": "markdown",
      "id": "TzO182YROSSv",
      "metadata": {
        "id": "TzO182YROSSv"
      },
      "source": []
    },
    {
      "cell_type": "code",
      "execution_count": 4,
      "id": "e2ba20cb",
      "metadata": {
        "id": "e2ba20cb"
      },
      "outputs": [
        {
          "ename": "ModuleNotFoundError",
          "evalue": "No module named 'google.colab'",
          "output_type": "error",
          "traceback": [
            "\u001b[0;31m---------------------------------------------------------------------------\u001b[0m",
            "\u001b[0;31mModuleNotFoundError\u001b[0m                       Traceback (most recent call last)",
            "Cell \u001b[0;32mIn[4], line 2\u001b[0m\n\u001b[1;32m      1\u001b[0m \u001b[38;5;66;03m# 🔐 Load API keys from Colab Secrets\u001b[39;00m\n\u001b[0;32m----> 2\u001b[0m \u001b[38;5;28;01mfrom\u001b[39;00m\u001b[38;5;250m \u001b[39m\u001b[38;5;21;01mgoogle\u001b[39;00m\u001b[38;5;21;01m.\u001b[39;00m\u001b[38;5;21;01mcolab\u001b[39;00m\u001b[38;5;250m \u001b[39m\u001b[38;5;28;01mimport\u001b[39;00m userdata\n\u001b[1;32m      3\u001b[0m \u001b[38;5;28;01mimport\u001b[39;00m\u001b[38;5;250m \u001b[39m\u001b[38;5;21;01mgoogle\u001b[39;00m\u001b[38;5;21;01m.\u001b[39;00m\u001b[38;5;21;01mgenerativeai\u001b[39;00m\u001b[38;5;250m \u001b[39m\u001b[38;5;28;01mas\u001b[39;00m\u001b[38;5;250m \u001b[39m\u001b[38;5;21;01mgenai\u001b[39;00m\n\u001b[1;32m      4\u001b[0m \u001b[38;5;28;01mfrom\u001b[39;00m\u001b[38;5;250m \u001b[39m\u001b[38;5;21;01mtavily\u001b[39;00m\u001b[38;5;250m \u001b[39m\u001b[38;5;28;01mimport\u001b[39;00m TavilyClient\n",
            "\u001b[0;31mModuleNotFoundError\u001b[0m: No module named 'google.colab'"
          ]
        }
      ],
      "source": [
        "# 🔐 Load API keys from Colab Secrets\n",
        "from google.colab import userdata\n",
        "import google.generativeai as genai\n",
        "from tavily import TavilyClient\n",
        "\n",
        "# Load secrets from the Colab \"Variables\" section\n",
        "genai.configure(api_key=userdata.get(\"GOOGLE_API_KEY\"))\n",
        "tavily = TavilyClient(api_key=userdata.get(\"TAVILY_API_KEY\"))"
      ]
    },
    {
      "cell_type": "markdown",
      "id": "129c4ebc",
      "metadata": {
        "id": "129c4ebc"
      },
      "source": [
        "## 🧠 Generate Research Questions using Gemini 1.5 Flash"
      ]
    },
    {
      "cell_type": "code",
      "execution_count": null,
      "id": "1e0d4a2c",
      "metadata": {
        "id": "1e0d4a2c"
      },
      "outputs": [],
      "source": [
        "def generate_questions_gemini(topic):\n",
        "    model = genai.GenerativeModel(\"gemini-1.5-flash\")\n",
        "    prompt = f\"Generate unique questions about the topi of about 4 count: {topic}.\"\n",
        "    response = model.generate_content(prompt)\n",
        "    return response.text.strip().split('\\n')"
      ]
    },
    {
      "cell_type": "markdown",
      "id": "7da89471",
      "metadata": {
        "id": "7da89471"
      },
      "source": [
        "## 🌐 Web Search using Tavily"
      ]
    },
    {
      "cell_type": "code",
      "execution_count": null,
      "id": "ca0e107f",
      "metadata": {
        "id": "ca0e107f"
      },
      "outputs": [],
      "source": [
        "def search_web(query):\n",
        "    results = tavily.search(query=query, search_depth=\"advanced\", max_results=3)\n",
        "    return [(r[\"title\"], r[\"content\"]) for r in results[\"results\"]]"
      ]
    },
    {
      "cell_type": "markdown",
      "id": "44670e92",
      "metadata": {
        "id": "44670e92"
      },
      "source": [
        "## 🤖 Define the ReAct Research Agent"
      ]
    },
    {
      "cell_type": "code",
      "execution_count": null,
      "id": "5f14ac4f",
      "metadata": {
        "id": "5f14ac4f"
      },
      "outputs": [],
      "source": [
        "class ResearchAgent:\n",
        "    def __init__(self, topic):\n",
        "        self.topic = topic\n",
        "        self.questions = []\n",
        "        self.answers = []\n",
        "\n",
        "    def plan(self):\n",
        "        self.questions = generate_questions_gemini(self.topic)\n",
        "\n",
        "    def act(self):\n",
        "        for q in self.questions:\n",
        "          if q.strip():\n",
        "            results = search_web(q)\n",
        "            self.answers.append((q, results))\n",
        "\n",
        "    def generate_report(self):\n",
        "        report = f\"# Research Report on {self.topic}\\n\\n\"\n",
        "        report += \"## Report on Building a Web Research Agent using the ReAct Pattern\"\n",
        "        for question, info in self.answers:\n",
        "            report += f\"### {question}\\n\"\n",
        "            for title, content in info:\n",
        "                report += f\"- **{title}**: {content[:300]}...\\n\"\n",
        "            report += \"\\n\"\n",
        "        report += \"## End of the Report is as follows\\n\"\n",
        "        return report"
      ]
    },
    {
      "cell_type": "markdown",
      "id": "6e900a32",
      "metadata": {
        "id": "6e900a32"
      },
      "source": [
        "## 🧪 Run the Agent"
      ]
    },
    {
      "cell_type": "code",
      "execution_count": null,
      "id": "b156a058",
      "metadata": {
        "colab": {
          "base_uri": "https://localhost:8080/",
          "height": 162
        },
        "id": "b156a058",
        "outputId": "25c423d2-ade4-47aa-9aa5-b56d99068431"
      },
      "outputs": [
        {
          "name": "stdout",
          "output_type": "stream",
          "text": [
            "- \"1. **How does the founder's personal leadership style influence the ethical considerations and deployment strategies of their agentic AI, and what are the potential pitfalls of misalignment between the two?** (Focuses on leadership and ethical implications)\"\n",
            "- ''\n",
            "- '2. **Beyond funding and technical challenges, what are the unique legal and regulatory hurdles a startup founder faces when building and scaling a product powered by an agentic AI, especially concerning liability and accountability?** (Focuses on legal and regulatory challenges)'\n",
            "- ''\n",
            "- '3. **How can a startup founder effectively communicate the capabilities and limitations of an agentic AI to potential investors, customers, and the public, avoiding both overselling and underselling its potential?** (Focuses on communication and marketing)'\n",
            "- ''\n",
            "- \"4. **In what ways can a startup founder leverage the agentic AI's capabilities to not only build a successful product but also foster a more innovative and efficient internal company culture?** (Focuses on internal application and company culture)\"\n"
          ]
        }
      ],
      "source": [
        "agent = ResearchAgent(\"Startup Founder with Agentic AI\")\n",
        "agent.plan()\n",
        "for q in agent.questions:\n",
        "    print(\"-\", repr(q))\n",
        "agent.act()\n",
        "report = agent.generate_report()"
      ]
    },
    {
      "cell_type": "markdown",
      "id": "05d6d3b2",
      "metadata": {
        "id": "05d6d3b2"
      },
      "source": [
        "## 📄 Display the Report"
      ]
    },
    {
      "cell_type": "code",
      "execution_count": null,
      "id": "ec8171d3",
      "metadata": {
        "colab": {
          "base_uri": "https://localhost:8080/",
          "height": 1000
        },
        "id": "ec8171d3",
        "outputId": "e3057e93-e82b-43ab-d9df-744c99ab807c"
      },
      "outputs": [
        {
          "data": {
            "text/markdown": [
              "# Research Report on Startup Founder with Agentic AI\n",
              "\n",
              "## Report on Building a Web Research Agent using the ReAct Pattern### 1. **How does the founder's personal leadership style influence the ethical considerations and deployment strategies of their agentic AI, and what are the potential pitfalls of misalignment between the two?** (Focuses on leadership and ethical implications)\n",
              "- **Navigating the Challenges: 5 Common Pitfalls in Agentic AI Adoption**: Key Takeaways\n",
              "-------------\n",
              "\n",
              "![Image 13](https://pubweb-prod.transforms.svdcdn.com/production/images/Globe_Worldwide_Duotone_2025-04-04-145502_buip.png?w=200&h=200&auto=compress%2Cformat&fit=crop&dm=1743778502&s=5ec8b922396dc6f15b07255d89fe1959)\n",
              "### Holistic Mindset\n",
              "\n",
              "Align AI projects with organizat...\n",
              "- **Ethical Implications of Agentic AI: Opportunities and Challenges [2025]**: While agentic AI systems are designed for efficiency and autonomy, they can sometimes produce unintended consequences that may have harmful impacts. These can arise from programming errors, unexpected interactions within complex systems, or misalignments between the AI’s goals and human values. For ...\n",
              "- **Ethical Considerations for Agentic AI - TalkToData AI**: Finally, the advent of misaligned objectives looms large. If an AI agent accidentally prioritizes the wrong metric—perhaps optimizing for user engagement above all else—it could flood social media with emotionally charged content that fuels divisiveness. The stakes intensify when these individualize...\n",
              "\n",
              "### 2. **Beyond funding and technical challenges, what are the unique legal and regulatory hurdles a startup founder faces when building and scaling a product powered by an agentic AI, especially concerning liability and accountability?** (Focuses on legal and regulatory challenges)\n",
              "- **Agentic AI: The rise of autonomous intelligence - Simpson Grierson**: One of the central legal challenges agentic AI presents is determining liability when things go wrong. In the “book me a trip to Paris” scenario...\n",
              "- **Navigating Regulatory Challenges in Agentic AI Systems**: The unique challenges posed by agentic AI systems represent a fundamental shift that will likely expose critical limitations in existing governance frameworks. Unlike previous AI developments that could be managed through incremental regulatory adjustments, agentic AI's autonomous capabilities may r...\n",
              "- **The legal challenges of AI: What startups need to know - NeuroSYS**: AI brings about several legal challenges, ranging from the question of who should be held accountable for the harm caused by the AI system to concerns about...\n",
              "\n",
              "### 3. **How can a startup founder effectively communicate the capabilities and limitations of an agentic AI to potential investors, customers, and the public, avoiding both overselling and underselling its potential?** (Focuses on communication and marketing)\n",
              "- **Can Agentic AI Be the Co-Founder of Your Next Startup Venture?**: Missing: effectively communicate public, avoiding overselling underselling communication...\n",
              "- **Why and How to Use AI in Startup Businesses, Particularly AI Agents**: Missing: founder communicate limitations overselling underselling communication...\n",
              "\n",
              "### 4. **In what ways can a startup founder leverage the agentic AI's capabilities to not only build a successful product but also foster a more innovative and efficient internal company culture?** (Focuses on internal application and company culture)\n",
              "- **Agentic AI Is Fueling A New Era Of Solo Entrepreneurship - Forbes**: We’re just entering this transformative era. Not only is agentic AI leveling the startup playing field, but it's rebuilding the stadium.\n",
              "\n",
              "3 Moves To Maximize Agentic AI For Founders\n",
              "-------------------------------------------\n",
              "\n",
              "### 1. Build AI-first feedback loops.\n",
              "\n",
              "PROMOTED\n",
              "\n",
              "Use generative AI to ant...\n",
              "- **Four ways companies can lead the charge in the AI future - EY**: *   Companies need to embrace the shift toward strategic AI deployment as the technology continues to reshape every aspect of the enterprise.\n",
              "*   This requires reimagining the future of the business, strengthening data infrastructure and addressing talent and technology gaps.\n",
              "*   Leveraging agentic ...\n",
              "- **How Startups Are Leveraging Agentic AI to Drive Innovation and ...**: Agentic AI is transforming how startups operate, enabling them to automate tasks, enhance decision-making, and improve customer experiences....\n",
              "\n",
              "## End of the Report is as follows\n"
            ],
            "text/plain": [
              "<IPython.core.display.Markdown object>"
            ]
          },
          "metadata": {},
          "output_type": "display_data"
        }
      ],
      "source": [
        "from IPython.display import Markdown\n",
        "display(Markdown(report))"
      ]
    }
  ],
  "metadata": {
    "colab": {
      "provenance": []
    },
    "kernelspec": {
      "display_name": "Python 3",
      "name": "python3"
    },
    "language_info": {
      "codemirror_mode": {
        "name": "ipython",
        "version": 3
      },
      "file_extension": ".py",
      "mimetype": "text/x-python",
      "name": "python",
      "nbconvert_exporter": "python",
      "pygments_lexer": "ipython3",
      "version": "3.9.6"
    }
  },
  "nbformat": 4,
  "nbformat_minor": 5
}
